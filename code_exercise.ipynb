{
 "cells": [
  {
   "cell_type": "code",
   "execution_count": 346,
   "metadata": {},
   "outputs": [],
   "source": [
    "import requests\n",
    "import os\n",
    "import re\n",
    "import json\n",
    "import datetime\n",
    "import time\n",
    "import pandas as pd\n",
    "import numpy as np\n",
    "from requests.packages.urllib3.exceptions import InsecureRequestWarning\n",
    "requests.packages.urllib3.disable_warnings(InsecureRequestWarning)\n",
    "\n",
    "import urllib\n",
    "from urllib import parse,request\n",
    "from bs4 import BeautifulSoup\n",
    "\n",
    "from selenium import webdriver\n",
    "from selenium.webdriver.chrome.options import Options\n",
    "chrome_options = Options()\n",
    "chrome_options.add_argument(\"--headless\")\n",
    "\n",
    "import jieba\n",
    "import re"
   ]
  },
  {
   "cell_type": "code",
   "execution_count": 302,
   "metadata": {
    "collapsed": true
   },
   "outputs": [
    {
     "name": "stdout",
     "output_type": "stream",
     "text": [
      "Collecting jieba\n",
      "\u001b[?25l  Downloading https://files.pythonhosted.org/packages/71/46/c6f9179f73b818d5827202ad1c4a94e371a29473b7f043b736b4dab6b8cd/jieba-0.39.zip (7.3MB)\n",
      "\u001b[K    100% |████████████████████████████████| 7.3MB 672kB/s ta 0:00:011\n",
      "\u001b[?25hBuilding wheels for collected packages: jieba\n",
      "  Running setup.py bdist_wheel for jieba ... \u001b[?25ldone\n",
      "\u001b[?25h  Stored in directory: /Users/gaohuaxuan/Library/Caches/pip/wheels/c9/c7/63/a9ec0322ccc7c365fd51e475942a82395807186e94f0522243\n",
      "Successfully built jieba\n",
      "Installing collected packages: jieba\n",
      "Successfully installed jieba-0.39\n",
      "\u001b[33mYou are using pip version 18.1, however version 19.1.1 is available.\n",
      "You should consider upgrading via the 'pip install --upgrade pip' command.\u001b[0m\n"
     ]
    }
   ],
   "source": [
    "!pip install jieba"
   ]
  },
  {
   "cell_type": "markdown",
   "metadata": {},
   "source": [
    "# Scrapper"
   ]
  },
  {
   "cell_type": "code",
   "execution_count": 258,
   "metadata": {},
   "outputs": [],
   "source": [
    "def get_content_by_page(page):\n",
    "    # page = 1~100     \n",
    "    setA = ['x','y','z', 0,1,2,3,4,5]\n",
    "    setB = ['M','N','O']\n",
    "    setC = ['A','Q','g','w']\n",
    "    url = 'http://data.eastmoney.com/report/hyyb.html#dHA9MCZjZz0wJmR0PTQmcGFnZT0'\n",
    "    if(page<10):\n",
    "        url += str(setA[(page-1)%10])\n",
    "    elif(page==100):\n",
    "        url += \"xMDA=\"\n",
    "    else:\n",
    "        url += str(setA[((page//10)-1)%10])\n",
    "        url += setB[(page%10)//4] + setC[(page%10)%4] + \"==\"\n",
    "#     print(url)\n",
    "    driver.get(url)\n",
    "    data = driver.page_source\n",
    "    soup = BeautifulSoup(data, 'html5lib')\n",
    "    return soup"
   ]
  },
  {
   "cell_type": "code",
   "execution_count": 248,
   "metadata": {
    "scrolled": true
   },
   "outputs": [],
   "source": [
    "def filter_data(soup):\n",
    "    a_tags = soup.find_all('a', href=True)\n",
    "    titles = []\n",
    "    reports = []\n",
    "    indus = []\n",
    "    for a in a_tags:\n",
    "        title = a.get('title')\n",
    "        href = a.get('href')\n",
    "        if(title!=None):\n",
    "            titles.append(title)\n",
    "            reports.append(href)\n",
    "        if(\"quote.eastmoney.com\" in href):\n",
    "            indus.append(a.contents)\n",
    "    return titles[:50], reports[:50], indus[3:]"
   ]
  },
  {
   "cell_type": "code",
   "execution_count": 249,
   "metadata": {},
   "outputs": [],
   "source": [
    "def get_txt(href):\n",
    "    url = \"http://data.eastmoney.com\"+href\n",
    "    opener = request.urlopen(url)\n",
    "#     print(url)\n",
    "    content = opener.read()\n",
    "    soup = BeautifulSoup(content, 'html.parser')\n",
    "    p_contents = soup.find_all('p')\n",
    "    text = \"\"\n",
    "    for p in p_contents:\n",
    "        if(p.contents!=[]):\n",
    "            text += p.contents[0]\n",
    "    return text"
   ]
  },
  {
   "cell_type": "code",
   "execution_count": 255,
   "metadata": {
    "scrolled": true
   },
   "outputs": [
    {
     "name": "stdout",
     "output_type": "stream",
     "text": [
      "page: 1\n",
      "page: 2\n",
      "page: 3\n",
      "page: 4\n",
      "2019年上海地区升学体系及升学政策研究url not found: http://data.eastmoney.com/report/20190514/hy,APPJ6Kps7gbIIndustry.html\n",
      "page: 5\n",
      "page: 6\n",
      "page: 7\n",
      "page: 8\n",
      "page: 9\n",
      "page: 10\n",
      "page: 11\n",
      "page: 12\n",
      "page: 13\n",
      "page: 14\n",
      "page: 15\n",
      "page: 16\n",
      "page: 17\n",
      "page: 18\n",
      "page: 19\n",
      "page: 20\n",
      "page: 21\n",
      "page: 22\n",
      "page: 23\n",
      "page: 24\n",
      "page: 25\n",
      "page: 26\n",
      "page: 27\n",
      "page: 28\n",
      "page: 29\n",
      "page: 30\n",
      "page: 31\n",
      "page: 32\n",
      "page: 33\n",
      "page: 34\n",
      "page: 35\n",
      "page: 36\n",
      "page: 37\n",
      "page: 38\n",
      "page: 39\n",
      "房地产行业深度报告：高股息率地产股值得关注url not found: http://data.eastmoney.com/report/20190425/hy,APPJ5yxxTlxRIndustry.html\n",
      "page: 40\n",
      "page: 41\n",
      "page: 42\n",
      "page: 43\n",
      "page: 44\n",
      "page: 45\n",
      "page: 46\n",
      "page: 47\n",
      "page: 48\n",
      "page: 49\n",
      "page: 50\n",
      "page: 51\n",
      "page: 52\n",
      "page: 53\n",
      "page: 54\n",
      "page: 55\n",
      "page: 56\n",
      "page: 57\n",
      "page: 58\n",
      "page: 59\n",
      "page: 60\n",
      "page: 61\n",
      "page: 62\n",
      "page: 63\n",
      "page: 64\n",
      "page: 65\n",
      "page: 66\n",
      "page: 67\n",
      "page: 68\n",
      "page: 69\n",
      "page: 70\n",
      "page: 71\n",
      "page: 72\n",
      "page: 73\n",
      "page: 74\n",
      "page: 75\n",
      "page: 76\n",
      "教育行业跨市场周报（第68期）：职业教育政策红利‚重点关注中公开元url not found: http://data.eastmoney.com/report/20190408/hy,APPJ5uwAXtinIndustry.html\n",
      "page: 77\n",
      "page: 78\n",
      "影视传媒行业周报：Q2进口片或仍是主力‚电竞成为正式职业url not found: http://data.eastmoney.com/report/20190408/hy,APPJ5uwAY1zRIndustry.html\n",
      "page: 79\n",
      "page: 80\n",
      "page: 81\n",
      "page: 82\n",
      "page: 83\n",
      "page: 84\n",
      "page: 85\n",
      "page: 86\n",
      "page: 87\n",
      "page: 88\n",
      "page: 89\n",
      "page: 90\n",
      "page: 91\n",
      "page: 92\n",
      "page: 93\n",
      "page: 94\n",
      "page: 95\n",
      "page: 96\n",
      "page: 97\n",
      "page: 98\n",
      "page: 99\n",
      "page: 100\n"
     ]
    },
    {
     "ename": "IndexError",
     "evalue": "list index out of range",
     "output_type": "error",
     "traceback": [
      "\u001b[0;31m---------------------------------------------------------------------------\u001b[0m",
      "\u001b[0;31mIndexError\u001b[0m                                Traceback (most recent call last)",
      "\u001b[0;32m<ipython-input-255-0204024c7daf>\u001b[0m in \u001b[0;36m<module>\u001b[0;34m()\u001b[0m\n\u001b[1;32m      3\u001b[0m     \u001b[0mdriver\u001b[0m \u001b[0;34m=\u001b[0m \u001b[0mwebdriver\u001b[0m\u001b[0;34m.\u001b[0m\u001b[0mChrome\u001b[0m\u001b[0;34m(\u001b[0m\u001b[0moptions\u001b[0m\u001b[0;34m=\u001b[0m\u001b[0mchrome_options\u001b[0m\u001b[0;34m)\u001b[0m\u001b[0;34m\u001b[0m\u001b[0m\n\u001b[1;32m      4\u001b[0m     \u001b[0mprint\u001b[0m\u001b[0;34m(\u001b[0m\u001b[0;34m\"page: \"\u001b[0m\u001b[0;34m+\u001b[0m\u001b[0mstr\u001b[0m\u001b[0;34m(\u001b[0m\u001b[0mi\u001b[0m\u001b[0;34m)\u001b[0m\u001b[0;34m)\u001b[0m\u001b[0;34m\u001b[0m\u001b[0m\n\u001b[0;32m----> 5\u001b[0;31m     \u001b[0msoup\u001b[0m \u001b[0;34m=\u001b[0m \u001b[0mget_content_by_page\u001b[0m\u001b[0;34m(\u001b[0m\u001b[0mi\u001b[0m\u001b[0;34m)\u001b[0m\u001b[0;34m\u001b[0m\u001b[0m\n\u001b[0m\u001b[1;32m      6\u001b[0m     \u001b[0mtitle\u001b[0m\u001b[0;34m,\u001b[0m \u001b[0mreport\u001b[0m\u001b[0;34m,\u001b[0m \u001b[0mindus\u001b[0m \u001b[0;34m=\u001b[0m \u001b[0mfilter_data\u001b[0m\u001b[0;34m(\u001b[0m\u001b[0msoup\u001b[0m\u001b[0;34m)\u001b[0m\u001b[0;34m\u001b[0m\u001b[0m\n\u001b[1;32m      7\u001b[0m     \u001b[0;32mif\u001b[0m\u001b[0;34m(\u001b[0m\u001b[0mlen\u001b[0m\u001b[0;34m(\u001b[0m\u001b[0mtitle\u001b[0m\u001b[0;34m)\u001b[0m\u001b[0;34m==\u001b[0m\u001b[0mlen\u001b[0m\u001b[0;34m(\u001b[0m\u001b[0mreport\u001b[0m\u001b[0;34m)\u001b[0m \u001b[0;32mand\u001b[0m \u001b[0mlen\u001b[0m\u001b[0;34m(\u001b[0m\u001b[0mtitle\u001b[0m\u001b[0;34m)\u001b[0m\u001b[0;34m==\u001b[0m\u001b[0mlen\u001b[0m\u001b[0;34m(\u001b[0m\u001b[0mindus\u001b[0m\u001b[0;34m)\u001b[0m\u001b[0;34m)\u001b[0m\u001b[0;34m:\u001b[0m\u001b[0;34m\u001b[0m\u001b[0m\n",
      "\u001b[0;32m<ipython-input-247-a0dce0c2ee1f>\u001b[0m in \u001b[0;36mget_content_by_page\u001b[0;34m(page)\u001b[0m\n\u001b[1;32m      8\u001b[0m         \u001b[0murl\u001b[0m \u001b[0;34m+=\u001b[0m \u001b[0mstr\u001b[0m\u001b[0;34m(\u001b[0m\u001b[0msetA\u001b[0m\u001b[0;34m[\u001b[0m\u001b[0;34m(\u001b[0m\u001b[0mpage\u001b[0m\u001b[0;34m-\u001b[0m\u001b[0;36m1\u001b[0m\u001b[0;34m)\u001b[0m\u001b[0;34m%\u001b[0m\u001b[0;36m10\u001b[0m\u001b[0;34m]\u001b[0m\u001b[0;34m)\u001b[0m\u001b[0;34m\u001b[0m\u001b[0m\n\u001b[1;32m      9\u001b[0m     \u001b[0;32melse\u001b[0m\u001b[0;34m:\u001b[0m\u001b[0;34m\u001b[0m\u001b[0m\n\u001b[0;32m---> 10\u001b[0;31m         \u001b[0murl\u001b[0m \u001b[0;34m+=\u001b[0m \u001b[0mstr\u001b[0m\u001b[0;34m(\u001b[0m\u001b[0msetA\u001b[0m\u001b[0;34m[\u001b[0m\u001b[0;34m(\u001b[0m\u001b[0;34m(\u001b[0m\u001b[0mpage\u001b[0m\u001b[0;34m//\u001b[0m\u001b[0;36m10\u001b[0m\u001b[0;34m)\u001b[0m\u001b[0;34m-\u001b[0m\u001b[0;36m1\u001b[0m\u001b[0;34m)\u001b[0m\u001b[0;34m%\u001b[0m\u001b[0;36m10\u001b[0m\u001b[0;34m]\u001b[0m\u001b[0;34m)\u001b[0m\u001b[0;34m\u001b[0m\u001b[0m\n\u001b[0m\u001b[1;32m     11\u001b[0m         \u001b[0murl\u001b[0m \u001b[0;34m+=\u001b[0m \u001b[0msetB\u001b[0m\u001b[0;34m[\u001b[0m\u001b[0;34m(\u001b[0m\u001b[0mpage\u001b[0m\u001b[0;34m%\u001b[0m\u001b[0;36m10\u001b[0m\u001b[0;34m)\u001b[0m\u001b[0;34m//\u001b[0m\u001b[0;36m4\u001b[0m\u001b[0;34m]\u001b[0m \u001b[0;34m+\u001b[0m \u001b[0msetC\u001b[0m\u001b[0;34m[\u001b[0m\u001b[0;34m(\u001b[0m\u001b[0mpage\u001b[0m\u001b[0;34m%\u001b[0m\u001b[0;36m10\u001b[0m\u001b[0;34m)\u001b[0m\u001b[0;34m%\u001b[0m\u001b[0;36m4\u001b[0m\u001b[0;34m]\u001b[0m \u001b[0;34m+\u001b[0m \u001b[0;34m\"==\"\u001b[0m\u001b[0;34m\u001b[0m\u001b[0m\n\u001b[1;32m     12\u001b[0m     \u001b[0;32mif\u001b[0m\u001b[0;34m(\u001b[0m\u001b[0mpage\u001b[0m\u001b[0;34m==\u001b[0m\u001b[0;36m100\u001b[0m\u001b[0;34m)\u001b[0m\u001b[0;34m:\u001b[0m\u001b[0;34m\u001b[0m\u001b[0m\n",
      "\u001b[0;31mIndexError\u001b[0m: list index out of range"
     ]
    }
   ],
   "source": [
    "for i in range(1,101):\n",
    "    # loop pages\n",
    "    driver = webdriver.Chrome(options=chrome_options)\n",
    "    print(\"page: \"+str(i))\n",
    "    soup = get_content_by_page(i)\n",
    "    title, report, indus = filter_data(soup)\n",
    "    if(len(title)==len(report) and len(title)==len(indus)):\n",
    "        # print(\"length check passed\")\n",
    "        # loop 50 articles\n",
    "        for j, href in enumerate(report):\n",
    "            try:\n",
    "                text = get_txt(href)\n",
    "            except:\n",
    "                print(title[j] + \"url not found: http://data.eastmoney.com\"+href)\n",
    "                continue\n",
    "            row = pd.DataFrame(data={'industry':indus[j], 'title':title[j], 'text':text})\n",
    "            row = row[['industry','title','text']]\n",
    "            row.to_csv('result_'+str(i)+'.csv', mode='a', header=False, index=False)\n",
    "    else:\n",
    "        print(\"length not equal!\")\n",
    "        print(len(title))\n",
    "        print(len(report))\n",
    "        print(len(indus))\n",
    "        break\n",
    "    driver.close()"
   ]
  },
  {
   "cell_type": "markdown",
   "metadata": {},
   "source": [
    "# Preprocessing"
   ]
  },
  {
   "cell_type": "code",
   "execution_count": 380,
   "metadata": {},
   "outputs": [],
   "source": [
    "from keras.preprocessing.text import Tokenizer"
   ]
  },
  {
   "cell_type": "code",
   "execution_count": null,
   "metadata": {},
   "outputs": [],
   "source": [
    "res_df = pd.DataFrame()\n",
    "for i in range(1,101):\n",
    "    df = pd.read_csv(\"result_\"+str(i)+\".csv\", header=None)\n",
    "    res_df = pd.concat([res_df, df])\n",
    "res_df = res_df.rename(columns={0:'industry', 1:'title', 2:'text'})"
   ]
  },
  {
   "cell_type": "code",
   "execution_count": 274,
   "metadata": {},
   "outputs": [],
   "source": [
    "indus_set = set(res_df['industry'].values)"
   ]
  },
  {
   "cell_type": "code",
   "execution_count": 389,
   "metadata": {},
   "outputs": [],
   "source": [
    "i = 0\n",
    "label_map = {}\n",
    "for cat in indus_set:\n",
    "    label_map[cat] = i\n",
    "    i += 1"
   ]
  },
  {
   "cell_type": "code",
   "execution_count": 451,
   "metadata": {},
   "outputs": [],
   "source": [
    "labels = []\n",
    "for indus in res_df['industry']:\n",
    "    labels.append(label_map[indus])"
   ]
  },
  {
   "cell_type": "code",
   "execution_count": 452,
   "metadata": {},
   "outputs": [],
   "source": [
    "labels = np.array(labels)"
   ]
  },
  {
   "cell_type": "code",
   "execution_count": 354,
   "metadata": {},
   "outputs": [],
   "source": [
    "vocab = set() # vocab list\n",
    "words = [] # train data\n",
    "for i in range(len(res_df)):\n",
    "    text = res_df['text'].iloc[i]\n",
    "    text = re.sub(\"[\\s+\\.\\!\\/_,$%^*(+\\\"\\']+|[+——！，。？、~@#￥%……&*（）：-；]\", \"\", text)\n",
    "    words.append(list(jieba.cut(text)))\n",
    "#     vocab = vocab | set(list(jieba.cut(res_df['text'].iloc[i])))"
   ]
  },
  {
   "cell_type": "code",
   "execution_count": 381,
   "metadata": {},
   "outputs": [],
   "source": [
    "t = Tokenizer()\n",
    "t.fit_on_texts(words)"
   ]
  },
  {
   "cell_type": "code",
   "execution_count": 383,
   "metadata": {},
   "outputs": [
    {
     "name": "stdout",
     "output_type": "stream",
     "text": [
      "[[ 0. 19.  5. ...  0.  0.  0.]\n",
      " [ 0. 12. 17. ...  0.  0.  0.]\n",
      " [ 0.  3. 16. ...  0.  0.  0.]\n",
      " ...\n",
      " [ 0. 34.  7. ...  0.  0.  0.]\n",
      " [ 0. 11.  6. ...  0.  0.  0.]\n",
      " [ 0.  3.  4. ...  1.  1.  1.]]\n"
     ]
    }
   ],
   "source": [
    "encoded_docs = t.texts_to_matrix(words, mode='count')\n",
    "print(encoded_docs)"
   ]
  },
  {
   "cell_type": "code",
   "execution_count": 384,
   "metadata": {},
   "outputs": [
    {
     "data": {
      "text/plain": [
       "(4995, 67825)"
      ]
     },
     "execution_count": 384,
     "metadata": {},
     "output_type": "execute_result"
    }
   ],
   "source": [
    "encoded_docs.shape"
   ]
  },
  {
   "cell_type": "code",
   "execution_count": 404,
   "metadata": {},
   "outputs": [
    {
     "data": {
      "text/plain": [
       "4535"
      ]
     },
     "execution_count": 404,
     "metadata": {},
     "output_type": "execute_result"
    }
   ],
   "source": [
    "max_strlen "
   ]
  },
  {
   "cell_type": "markdown",
   "metadata": {},
   "source": [
    "# Model"
   ]
  },
  {
   "cell_type": "code",
   "execution_count": 458,
   "metadata": {},
   "outputs": [],
   "source": [
    "import keras\n",
    "from keras.models import Sequential\n",
    "from keras.layers import Input, LSTM, Dense, Dropout, Embedding\n",
    "from sklearn.model_selection import StratifiedKFold\n",
    "from keras import backend as K"
   ]
  },
  {
   "cell_type": "code",
   "execution_count": 459,
   "metadata": {},
   "outputs": [],
   "source": [
    "# https://stackoverflow.com/questions/43547402/how-to-calculate-f1-macro-in-keras\n",
    "def f1(y_true, y_pred):\n",
    "    def recall(y_true, y_pred):\n",
    "        true_positives = K.sum(K.round(K.clip(y_true * y_pred, 0, 1)))\n",
    "        possible_positives = K.sum(K.round(K.clip(y_true, 0, 1)))\n",
    "        recall = true_positives / (possible_positives + K.epsilon())\n",
    "        return recall\n",
    "\n",
    "    def precision(y_true, y_pred):\n",
    "        true_positives = K.sum(K.round(K.clip(y_true * y_pred, 0, 1)))\n",
    "        predicted_positives = K.sum(K.round(K.clip(y_pred, 0, 1)))\n",
    "        precision = true_positives / (predicted_positives + K.epsilon())\n",
    "        return precision\n",
    "    precision = precision(y_true, y_pred)\n",
    "    recall = recall(y_true, y_pred)\n",
    "    return 2*((precision*recall)/(precision+recall+K.epsilon()))"
   ]
  },
  {
   "cell_type": "code",
   "execution_count": 460,
   "metadata": {},
   "outputs": [],
   "source": [
    "def build_model():\n",
    "    model = Sequential()\n",
    "\n",
    "    # model.add(\n",
    "    #     Embedding(input_dim=len(vocab),\n",
    "    #               input_length = encoded_docs.shape[1],\n",
    "    #               output_dim=100,\n",
    "    #               trainable=True,\n",
    "    #               mask_zero=True))\n",
    "\n",
    "    # Recurrent layer\n",
    "    # model.add(LSTM(64, return_sequences=False,\n",
    "    #                dropout=0.1, recurrent_dropout=0.1))\n",
    "\n",
    "    model.add(Dense(128, activation='relu'))\n",
    "    model.add(Dropout(0.5))\n",
    "    model.add(Dense(50, activation='softmax'))\n",
    "    \n",
    "    model.compile(\n",
    "        optimizer='adam', loss='sparse_categorical_crossentropy', metrics=[f1])\n",
    "    \n",
    "    return model"
   ]
  },
  {
   "cell_type": "code",
   "execution_count": 461,
   "metadata": {},
   "outputs": [],
   "source": [
    "kfold = StratifiedKFold(n_splits=10, shuffle=True, random_state=2019)\n",
    "cvscores = []\n",
    "X = encoded_docs\n",
    "Y = labels\n",
    "kfold_split = kfold.split(X, Y)"
   ]
  },
  {
   "cell_type": "code",
   "execution_count": 463,
   "metadata": {},
   "outputs": [
    {
     "name": "stdout",
     "output_type": "stream",
     "text": [
      "Epoch 1/5\n",
      "4487/4487 [==============================] - 16s 3ms/step - loss: 2.5921 - f1: 28.0763\n",
      "Epoch 2/5\n",
      "4487/4487 [==============================] - 11s 3ms/step - loss: 0.8309 - f1: 6.2196\n",
      "Epoch 3/5\n",
      "4487/4487 [==============================] - 11s 2ms/step - loss: 0.4428 - f1: 3.0210\n",
      "Epoch 4/5\n",
      "4487/4487 [==============================] - 14s 3ms/step - loss: 0.2946 - f1: 2.2643\n",
      "Epoch 5/5\n",
      "4487/4487 [==============================] - 14s 3ms/step - loss: 0.1954 - f1: 1.8971\n",
      "508/508 [==============================] - 3s 5ms/step\n",
      "f1: 2.1372\n",
      "Epoch 1/5\n",
      "4487/4487 [==============================] - 19s 4ms/step - loss: 2.5497 - f1: 27.8749\n",
      "Epoch 2/5\n",
      "4487/4487 [==============================] - 14s 3ms/step - loss: 0.8096 - f1: 5.9624\n",
      "Epoch 3/5\n",
      "4487/4487 [==============================] - 14s 3ms/step - loss: 0.4366 - f1: 2.8954\n",
      "Epoch 4/5\n",
      "4487/4487 [==============================] - 14s 3ms/step - loss: 0.2939 - f1: 2.2962\n",
      "Epoch 5/5\n",
      "4487/4487 [==============================] - 14s 3ms/step - loss: 0.1950 - f1: 1.9263\n",
      "508/508 [==============================] - 3s 5ms/step\n",
      "f1: 2.3474\n",
      "Epoch 1/5\n",
      "4497/4497 [==============================] - 21s 5ms/step - loss: 2.6265 - f1: 28.7341\n",
      "Epoch 2/5\n",
      "4497/4497 [==============================] - 13s 3ms/step - loss: 0.8494 - f1: 6.1694\n",
      "Epoch 3/5\n",
      "4497/4497 [==============================] - 14s 3ms/step - loss: 0.4621 - f1: 3.0367\n",
      "Epoch 4/5\n",
      "4497/4497 [==============================] - 12s 3ms/step - loss: 0.2863 - f1: 2.2743\n",
      "Epoch 5/5\n",
      "4497/4497 [==============================] - 12s 3ms/step - loss: 0.1937 - f1: 1.9045\n",
      "498/498 [==============================] - 3s 5ms/step\n",
      "f1: 2.0153\n",
      "Epoch 1/5\n",
      "4486/4486 [==============================] - 19s 4ms/step - loss: 2.6111 - f1: 28.5733\n",
      "Epoch 2/5\n",
      "4486/4486 [==============================] - 17s 4ms/step - loss: 0.8157 - f1: 5.7952\n",
      "Epoch 3/5\n",
      "4486/4486 [==============================] - 14s 3ms/step - loss: 0.4283 - f1: 3.0615\n",
      "Epoch 4/5\n",
      "4486/4486 [==============================] - 18s 4ms/step - loss: 0.2670 - f1: 2.3179\n",
      "Epoch 5/5\n",
      "4486/4486 [==============================] - 14s 3ms/step - loss: 0.1841 - f1: 1.8713\n",
      "509/509 [==============================] - 3s 5ms/step\n",
      "f1: 1.9604\n",
      "Epoch 1/5\n",
      "4501/4501 [==============================] - 23s 5ms/step - loss: 2.5283 - f1: 27.7138\n",
      "Epoch 2/5\n",
      "4501/4501 [==============================] - 14s 3ms/step - loss: 0.8095 - f1: 5.8311\n",
      "Epoch 3/5\n",
      "4501/4501 [==============================] - 14s 3ms/step - loss: 0.4388 - f1: 2.9792\n",
      "Epoch 4/5\n",
      "4501/4501 [==============================] - 14s 3ms/step - loss: 0.2861 - f1: 2.2273\n",
      "Epoch 5/5\n",
      "4501/4501 [==============================] - 14s 3ms/step - loss: 0.1992 - f1: 1.9199\n",
      "494/494 [==============================] - 3s 6ms/step\n",
      "f1: 2.0539\n",
      "Epoch 1/5\n",
      "4507/4507 [==============================] - 19s 4ms/step - loss: 2.5944 - f1: 29.0906\n",
      "Epoch 2/5\n",
      "4507/4507 [==============================] - 17s 4ms/step - loss: 0.8245 - f1: 5.7528\n",
      "Epoch 3/5\n",
      "4507/4507 [==============================] - 26s 6ms/step - loss: 0.4376 - f1: 2.9953\n",
      "Epoch 4/5\n",
      "4507/4507 [==============================] - 21s 5ms/step - loss: 0.2705 - f1: 2.2043\n",
      "Epoch 5/5\n",
      "4507/4507 [==============================] - 16s 4ms/step - loss: 0.2043 - f1: 1.9218\n",
      "488/488 [==============================] - 4s 7ms/step\n",
      "f1: 2.1165\n",
      "Epoch 1/5\n",
      "4510/4510 [==============================] - 19s 4ms/step - loss: 2.5812 - f1: 27.9582\n",
      "Epoch 2/5\n",
      "4510/4510 [==============================] - 14s 3ms/step - loss: 0.8199 - f1: 6.0964\n",
      "Epoch 3/5\n",
      "4510/4510 [==============================] - 14s 3ms/step - loss: 0.4280 - f1: 3.0759\n",
      "Epoch 4/5\n",
      "4510/4510 [==============================] - 16s 4ms/step - loss: 0.2717 - f1: 2.2707\n",
      "Epoch 5/5\n",
      "4510/4510 [==============================] - 15s 3ms/step - loss: 0.1821 - f1: 1.8697\n",
      "485/485 [==============================] - 3s 6ms/step\n",
      "f1: 2.0598\n",
      "Epoch 1/5\n",
      "4515/4515 [==============================] - 21s 5ms/step - loss: 2.7136 - f1: 30.3692\n",
      "Epoch 2/5\n",
      "4515/4515 [==============================] - 16s 3ms/step - loss: 0.8712 - f1: 6.6261\n",
      "Epoch 3/5\n",
      "4515/4515 [==============================] - 12s 3ms/step - loss: 0.4645 - f1: 3.1963\n",
      "Epoch 4/5\n",
      "4515/4515 [==============================] - 12s 3ms/step - loss: 0.3121 - f1: 2.2792\n",
      "Epoch 5/5\n",
      "4515/4515 [==============================] - 11s 2ms/step - loss: 0.2059 - f1: 1.9217\n",
      "480/480 [==============================] - 3s 6ms/step\n",
      "f1: 1.8991\n"
     ]
    },
    {
     "ename": "NameError",
     "evalue": "name 'numpy' is not defined",
     "output_type": "error",
     "traceback": [
      "\u001b[0;31m---------------------------------------------------------------------------\u001b[0m",
      "\u001b[0;31mNameError\u001b[0m                                 Traceback (most recent call last)",
      "\u001b[0;32m<ipython-input-463-8c6a4f257939>\u001b[0m in \u001b[0;36m<module>\u001b[0;34m()\u001b[0m\n\u001b[1;32m      7\u001b[0m     \u001b[0mprint\u001b[0m\u001b[0;34m(\u001b[0m\u001b[0;34m\"%s: %.4f\"\u001b[0m \u001b[0;34m%\u001b[0m \u001b[0;34m(\u001b[0m\u001b[0mmodel\u001b[0m\u001b[0;34m.\u001b[0m\u001b[0mmetrics_names\u001b[0m\u001b[0;34m[\u001b[0m\u001b[0;36m1\u001b[0m\u001b[0;34m]\u001b[0m\u001b[0;34m,\u001b[0m \u001b[0mscores\u001b[0m\u001b[0;34m[\u001b[0m\u001b[0;36m1\u001b[0m\u001b[0;34m]\u001b[0m\u001b[0;34m)\u001b[0m\u001b[0;34m)\u001b[0m\u001b[0;34m\u001b[0m\u001b[0m\n\u001b[1;32m      8\u001b[0m     \u001b[0mcvscores\u001b[0m\u001b[0;34m.\u001b[0m\u001b[0mappend\u001b[0m\u001b[0;34m(\u001b[0m\u001b[0mscores\u001b[0m\u001b[0;34m[\u001b[0m\u001b[0;36m1\u001b[0m\u001b[0;34m]\u001b[0m \u001b[0;34m*\u001b[0m \u001b[0;36m100\u001b[0m\u001b[0;34m)\u001b[0m\u001b[0;34m\u001b[0m\u001b[0m\n\u001b[0;32m----> 9\u001b[0;31m \u001b[0mprint\u001b[0m\u001b[0;34m(\u001b[0m\u001b[0;34m\"%.2f (+/- %.2f)\"\u001b[0m \u001b[0;34m%\u001b[0m \u001b[0;34m(\u001b[0m\u001b[0mnumpy\u001b[0m\u001b[0;34m.\u001b[0m\u001b[0mmean\u001b[0m\u001b[0;34m(\u001b[0m\u001b[0mcvscores\u001b[0m\u001b[0;34m)\u001b[0m\u001b[0;34m,\u001b[0m \u001b[0mnumpy\u001b[0m\u001b[0;34m.\u001b[0m\u001b[0mstd\u001b[0m\u001b[0;34m(\u001b[0m\u001b[0mcvscores\u001b[0m\u001b[0;34m)\u001b[0m\u001b[0;34m)\u001b[0m\u001b[0;34m)\u001b[0m\u001b[0;34m\u001b[0m\u001b[0m\n\u001b[0m",
      "\u001b[0;31mNameError\u001b[0m: name 'numpy' is not defined"
     ]
    }
   ],
   "source": [
    "for train, test in kfold_split:\n",
    "  # create model\n",
    "    model = build_model()\n",
    "    model.fit(X[train], Y[train], epochs=5, batch_size=512, verbose=1)\n",
    "    # evaluate the model\n",
    "    scores = model.evaluate(X[test], Y[test], verbose=1)\n",
    "    print(\"%s: %.4f\" % (model.metrics_names[1], scores[1]))\n",
    "    cvscores.append(scores[1])"
   ]
  },
  {
   "cell_type": "code",
   "execution_count": 466,
   "metadata": {},
   "outputs": [
    {
     "name": "stdout",
     "output_type": "stream",
     "text": [
      "2.03 (+/- 0.17)\n"
     ]
    }
   ],
   "source": [
    "print(\"%.2f (+/- %.2f)\" % (np.mean([cvscores]), np.std([cvscores])))"
   ]
  },
  {
   "cell_type": "code",
   "execution_count": null,
   "metadata": {},
   "outputs": [],
   "source": []
  }
 ],
 "metadata": {
  "kernelspec": {
   "display_name": "Python 3",
   "language": "python",
   "name": "python3"
  },
  "language_info": {
   "codemirror_mode": {
    "name": "ipython",
    "version": 3
   },
   "file_extension": ".py",
   "mimetype": "text/x-python",
   "name": "python",
   "nbconvert_exporter": "python",
   "pygments_lexer": "ipython3",
   "version": "3.5.6"
  }
 },
 "nbformat": 4,
 "nbformat_minor": 2
}
